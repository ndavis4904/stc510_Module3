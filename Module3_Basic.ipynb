{
  "nbformat": 4,
  "nbformat_minor": 0,
  "metadata": {
    "colab": {
      "provenance": []
    },
    "kernelspec": {
      "name": "python3",
      "display_name": "Python 3"
    },
    "language_info": {
      "name": "python"
    }
  },
  "cells": [
    {
      "cell_type": "code",
      "execution_count": 9,
      "metadata": {
        "id": "tEQGrUH1kq3B"
      },
      "outputs": [],
      "source": [
        "import numpy as np\n",
        "import pandas as pd\n",
        "import matplotlib.pyplot as plt\n",
        "import requests\n",
        "import io\n",
        "import csv"
      ]
    },
    {
      "cell_type": "markdown",
      "source": [
        "Loading in the data straight from GitHub to increase reliability from different machines."
      ],
      "metadata": {
        "id": "HUW8ezwpnDcw"
      }
    },
    {
      "cell_type": "code",
      "source": [
        "url = \"https://raw.githubusercontent.com/ndavis4904/stc510_Module3/main/crimestat.csv\"\n",
        "download = requests.get(url).content\n",
        "\n",
        "df = pd.read_csv(io.StringIO(download.decode('utf-8')), quoting = csv.QUOTE_NONE)\n",
        "df.head()"
      ],
      "metadata": {
        "colab": {
          "base_uri": "https://localhost:8080/",
          "height": 206
        },
        "id": "vwK9ZGGHlJtK",
        "outputId": "0ca88a72-a3de-4180-b7ea-8b4d34022d8b"
      },
      "execution_count": 51,
      "outputs": [
        {
          "output_type": "execute_result",
          "data": {
            "text/plain": [
              "        \"INC NUMBER\"      \"OCCURRED ON\"      \"OCCURRED TO\"  \\\n",
              "0  \"201600000052855\"  11/01/2015  00:00  01/09/2016  00:00   \n",
              "1  \"201600000594484\"  11/01/2015  00:00                NaN   \n",
              "2  \"201500002102327\"  11/01/2015  00:00  11/01/2015  09:00   \n",
              "3  \"201500002101405\"  11/01/2015  00:00  11/01/2015  05:00   \n",
              "4  \"201500002102668\"  11/01/2015  00:00  11/01/2015  11:50   \n",
              "\n",
              "    \"UCR CRIME CATEGORY\"            \"100 BLOCK ADDR\"    \"ZIP\"  \\\n",
              "0  \"MOTOR VEHICLE THEFT\"  \"N 43RD AVE & W CACTUS RD\"  \"85029\"   \n",
              "1                 \"RAPE\"         \"13XX E ALMERIA RD\"  \"85006\"   \n",
              "2        \"LARCENY-THEFT\"            \"51XX N 15TH ST\"  \"85014\"   \n",
              "3  \"MOTOR VEHICLE THEFT\"       \"102XX W MEDLOCK AVE\"  \"85307\"   \n",
              "4  \"MOTOR VEHICLE THEFT\"            \"69XX W WOOD ST\"  \"85043\"   \n",
              "\n",
              "          \"PREMISE TYPE\"  \n",
              "0  \"SINGLE FAMILY HOUSE\"  \n",
              "1  \"SINGLE FAMILY HOUSE\"  \n",
              "2            \"APARTMENT\"  \n",
              "3  \"SINGLE FAMILY HOUSE\"  \n",
              "4  \"SINGLE FAMILY HOUSE\"  "
            ],
            "text/html": [
              "\n",
              "  <div id=\"df-cd8744a0-8c4e-4221-ac7c-5c75cb2e80ee\">\n",
              "    <div class=\"colab-df-container\">\n",
              "      <div>\n",
              "<style scoped>\n",
              "    .dataframe tbody tr th:only-of-type {\n",
              "        vertical-align: middle;\n",
              "    }\n",
              "\n",
              "    .dataframe tbody tr th {\n",
              "        vertical-align: top;\n",
              "    }\n",
              "\n",
              "    .dataframe thead th {\n",
              "        text-align: right;\n",
              "    }\n",
              "</style>\n",
              "<table border=\"1\" class=\"dataframe\">\n",
              "  <thead>\n",
              "    <tr style=\"text-align: right;\">\n",
              "      <th></th>\n",
              "      <th>\"INC NUMBER\"</th>\n",
              "      <th>\"OCCURRED ON\"</th>\n",
              "      <th>\"OCCURRED TO\"</th>\n",
              "      <th>\"UCR CRIME CATEGORY\"</th>\n",
              "      <th>\"100 BLOCK ADDR\"</th>\n",
              "      <th>\"ZIP\"</th>\n",
              "      <th>\"PREMISE TYPE\"</th>\n",
              "    </tr>\n",
              "  </thead>\n",
              "  <tbody>\n",
              "    <tr>\n",
              "      <th>0</th>\n",
              "      <td>\"201600000052855\"</td>\n",
              "      <td>11/01/2015  00:00</td>\n",
              "      <td>01/09/2016  00:00</td>\n",
              "      <td>\"MOTOR VEHICLE THEFT\"</td>\n",
              "      <td>\"N 43RD AVE &amp; W CACTUS RD\"</td>\n",
              "      <td>\"85029\"</td>\n",
              "      <td>\"SINGLE FAMILY HOUSE\"</td>\n",
              "    </tr>\n",
              "    <tr>\n",
              "      <th>1</th>\n",
              "      <td>\"201600000594484\"</td>\n",
              "      <td>11/01/2015  00:00</td>\n",
              "      <td>NaN</td>\n",
              "      <td>\"RAPE\"</td>\n",
              "      <td>\"13XX E ALMERIA RD\"</td>\n",
              "      <td>\"85006\"</td>\n",
              "      <td>\"SINGLE FAMILY HOUSE\"</td>\n",
              "    </tr>\n",
              "    <tr>\n",
              "      <th>2</th>\n",
              "      <td>\"201500002102327\"</td>\n",
              "      <td>11/01/2015  00:00</td>\n",
              "      <td>11/01/2015  09:00</td>\n",
              "      <td>\"LARCENY-THEFT\"</td>\n",
              "      <td>\"51XX N 15TH ST\"</td>\n",
              "      <td>\"85014\"</td>\n",
              "      <td>\"APARTMENT\"</td>\n",
              "    </tr>\n",
              "    <tr>\n",
              "      <th>3</th>\n",
              "      <td>\"201500002101405\"</td>\n",
              "      <td>11/01/2015  00:00</td>\n",
              "      <td>11/01/2015  05:00</td>\n",
              "      <td>\"MOTOR VEHICLE THEFT\"</td>\n",
              "      <td>\"102XX W MEDLOCK AVE\"</td>\n",
              "      <td>\"85307\"</td>\n",
              "      <td>\"SINGLE FAMILY HOUSE\"</td>\n",
              "    </tr>\n",
              "    <tr>\n",
              "      <th>4</th>\n",
              "      <td>\"201500002102668\"</td>\n",
              "      <td>11/01/2015  00:00</td>\n",
              "      <td>11/01/2015  11:50</td>\n",
              "      <td>\"MOTOR VEHICLE THEFT\"</td>\n",
              "      <td>\"69XX W WOOD ST\"</td>\n",
              "      <td>\"85043\"</td>\n",
              "      <td>\"SINGLE FAMILY HOUSE\"</td>\n",
              "    </tr>\n",
              "  </tbody>\n",
              "</table>\n",
              "</div>\n",
              "      <button class=\"colab-df-convert\" onclick=\"convertToInteractive('df-cd8744a0-8c4e-4221-ac7c-5c75cb2e80ee')\"\n",
              "              title=\"Convert this dataframe to an interactive table.\"\n",
              "              style=\"display:none;\">\n",
              "        \n",
              "  <svg xmlns=\"http://www.w3.org/2000/svg\" height=\"24px\"viewBox=\"0 0 24 24\"\n",
              "       width=\"24px\">\n",
              "    <path d=\"M0 0h24v24H0V0z\" fill=\"none\"/>\n",
              "    <path d=\"M18.56 5.44l.94 2.06.94-2.06 2.06-.94-2.06-.94-.94-2.06-.94 2.06-2.06.94zm-11 1L8.5 8.5l.94-2.06 2.06-.94-2.06-.94L8.5 2.5l-.94 2.06-2.06.94zm10 10l.94 2.06.94-2.06 2.06-.94-2.06-.94-.94-2.06-.94 2.06-2.06.94z\"/><path d=\"M17.41 7.96l-1.37-1.37c-.4-.4-.92-.59-1.43-.59-.52 0-1.04.2-1.43.59L10.3 9.45l-7.72 7.72c-.78.78-.78 2.05 0 2.83L4 21.41c.39.39.9.59 1.41.59.51 0 1.02-.2 1.41-.59l7.78-7.78 2.81-2.81c.8-.78.8-2.07 0-2.86zM5.41 20L4 18.59l7.72-7.72 1.47 1.35L5.41 20z\"/>\n",
              "  </svg>\n",
              "      </button>\n",
              "      \n",
              "  <style>\n",
              "    .colab-df-container {\n",
              "      display:flex;\n",
              "      flex-wrap:wrap;\n",
              "      gap: 12px;\n",
              "    }\n",
              "\n",
              "    .colab-df-convert {\n",
              "      background-color: #E8F0FE;\n",
              "      border: none;\n",
              "      border-radius: 50%;\n",
              "      cursor: pointer;\n",
              "      display: none;\n",
              "      fill: #1967D2;\n",
              "      height: 32px;\n",
              "      padding: 0 0 0 0;\n",
              "      width: 32px;\n",
              "    }\n",
              "\n",
              "    .colab-df-convert:hover {\n",
              "      background-color: #E2EBFA;\n",
              "      box-shadow: 0px 1px 2px rgba(60, 64, 67, 0.3), 0px 1px 3px 1px rgba(60, 64, 67, 0.15);\n",
              "      fill: #174EA6;\n",
              "    }\n",
              "\n",
              "    [theme=dark] .colab-df-convert {\n",
              "      background-color: #3B4455;\n",
              "      fill: #D2E3FC;\n",
              "    }\n",
              "\n",
              "    [theme=dark] .colab-df-convert:hover {\n",
              "      background-color: #434B5C;\n",
              "      box-shadow: 0px 1px 3px 1px rgba(0, 0, 0, 0.15);\n",
              "      filter: drop-shadow(0px 1px 2px rgba(0, 0, 0, 0.3));\n",
              "      fill: #FFFFFF;\n",
              "    }\n",
              "  </style>\n",
              "\n",
              "      <script>\n",
              "        const buttonEl =\n",
              "          document.querySelector('#df-cd8744a0-8c4e-4221-ac7c-5c75cb2e80ee button.colab-df-convert');\n",
              "        buttonEl.style.display =\n",
              "          google.colab.kernel.accessAllowed ? 'block' : 'none';\n",
              "\n",
              "        async function convertToInteractive(key) {\n",
              "          const element = document.querySelector('#df-cd8744a0-8c4e-4221-ac7c-5c75cb2e80ee');\n",
              "          const dataTable =\n",
              "            await google.colab.kernel.invokeFunction('convertToInteractive',\n",
              "                                                     [key], {});\n",
              "          if (!dataTable) return;\n",
              "\n",
              "          const docLinkHtml = 'Like what you see? Visit the ' +\n",
              "            '<a target=\"_blank\" href=https://colab.research.google.com/notebooks/data_table.ipynb>data table notebook</a>'\n",
              "            + ' to learn more about interactive tables.';\n",
              "          element.innerHTML = '';\n",
              "          dataTable['output_type'] = 'display_data';\n",
              "          await google.colab.output.renderOutput(dataTable, element);\n",
              "          const docLink = document.createElement('div');\n",
              "          docLink.innerHTML = docLinkHtml;\n",
              "          element.appendChild(docLink);\n",
              "        }\n",
              "      </script>\n",
              "    </div>\n",
              "  </div>\n",
              "  "
            ]
          },
          "metadata": {},
          "execution_count": 51
        }
      ]
    },
    {
      "cell_type": "markdown",
      "source": [
        "As seen below, if we are interested in where crimes are happening, looking at the entire list of locations is too much to be useful."
      ],
      "metadata": {
        "id": "YnyYcqQ7uZZY"
      }
    },
    {
      "cell_type": "code",
      "source": [
        "frequencies_full = df['\"PREMISE TYPE\"'].value_counts()\n",
        "frequencies_full.plot.bar()"
      ],
      "metadata": {
        "colab": {
          "base_uri": "https://localhost:8080/"
        },
        "id": "UTvYFtmOugv5",
        "outputId": "40d01d5c-43ac-43c5-c9a2-eec30af64f82"
      },
      "execution_count": 60,
      "outputs": [
        {
          "output_type": "execute_result",
          "data": {
            "text/plain": [
              "\"SINGLE FAMILY HOUSE\"                    25329\n",
              "\"APARTMENT\"                              14957\n",
              "\"PARKING LOT\"                            14148\n",
              "\"STREET / ROADWAY / ALLEY / SIDEWALK\"    11596\n",
              "\"RETAIL BUSINESS\"                        10852\n",
              "                                         ...  \n",
              "\"GAMBLING FACILITY/CASINO/RACE TRACK\"        2\n",
              "\"LAKE / WATERWAY / BEACH\"                    1\n",
              "\"TRIBAL LANDS\"                               1\n",
              "\"REST AREA\"                                  1\n",
              "\"A                                           1\n",
              "Name: \"PREMISE TYPE\", Length: 94, dtype: int64"
            ]
          },
          "metadata": {},
          "execution_count": 60
        }
      ]
    },
    {
      "cell_type": "markdown",
      "source": [
        "I decided to look at some descriptive data in order to determine what would be the most interesting to find where they are most commonly occuring."
      ],
      "metadata": {
        "id": "63VGOnxBut0b"
      }
    },
    {
      "cell_type": "code",
      "source": [
        "frequencies_full.describe()"
      ],
      "metadata": {
        "colab": {
          "base_uri": "https://localhost:8080/"
        },
        "id": "9d5cbOSKu5ZX",
        "outputId": "66ce0a7d-6f13-4388-ffb4-260c77284ebc"
      },
      "execution_count": 50,
      "outputs": [
        {
          "output_type": "execute_result",
          "data": {
            "text/plain": [
              "count       94.000000\n",
              "mean      1392.765957\n",
              "std       3715.120593\n",
              "min          1.000000\n",
              "25%         22.000000\n",
              "50%        194.500000\n",
              "75%        747.250000\n",
              "max      25329.000000\n",
              "Name: \"PREMISE TYPE\", dtype: float64"
            ]
          },
          "metadata": {},
          "execution_count": 50
        }
      ]
    },
    {
      "cell_type": "markdown",
      "source": [
        "I decided to go with all the crimes that were above the third quantile, or the upper 25% of crimes. This is much easier to see, and allows us to see that Single Family Homes are, by far, most frequently the object of crimes."
      ],
      "metadata": {
        "id": "Adr9gm81u_-Z"
      }
    },
    {
      "cell_type": "code",
      "source": [
        "frequencies = df['\"PREMISE TYPE\"'].value_counts()[df['\"PREMISE TYPE\"'].value_counts()>750]\n",
        "frequencies.plot.bar()\n"
      ],
      "metadata": {
        "colab": {
          "base_uri": "https://localhost:8080/",
          "height": 480
        },
        "id": "9AQqaO__nKLi",
        "outputId": "c201c708-570d-4834-93b6-9a977c986233"
      },
      "execution_count": 48,
      "outputs": [
        {
          "output_type": "execute_result",
          "data": {
            "text/plain": [
              "<matplotlib.axes._subplots.AxesSubplot at 0x7f27d1e0e400>"
            ]
          },
          "metadata": {},
          "execution_count": 48
        },
        {
          "output_type": "display_data",
          "data": {
            "text/plain": [
              "<Figure size 432x288 with 1 Axes>"
            ],
            "image/png": "[encoded data removed]"
          },
          "metadata": {
            "needs_background": "light"
          }
        }
      ]
    },
    {
      "cell_type": "markdown",
      "source": [
        "If we look into the types of crimes that are commited at Single Family Homes, we get the following distribution. "
      ],
      "metadata": {
        "id": "k6snRm27vvgM"
      }
    },
    {
      "cell_type": "code",
      "source": [
        "prem_type = df.groupby('\"PREMISE TYPE\"')\n",
        "sngle_hm = prem_type.get_group('\"SINGLE FAMILY HOUSE\"')\n",
        "sngle_hm['\"UCR CRIME CATEGORY\"'].value_counts()"
      ],
      "metadata": {
        "colab": {
          "base_uri": "https://localhost:8080/"
        },
        "id": "cmorLVWNsMd7",
        "outputId": "4eb9b633-3cf5-4541-818d-d86ace748e86"
      },
      "execution_count": 71,
      "outputs": [
        {
          "output_type": "execute_result",
          "data": {
            "text/plain": [
              "\"BURGLARY\"                                 0.497493\n",
              "\"LARCENY-THEFT\"                            0.269888\n",
              "\"MOTOR VEHICLE THEFT\"                      0.091002\n",
              "\"AGGRAVATED ASSAULT\"                       0.080264\n",
              "\"RAPE\"                                     0.024044\n",
              "\"DRUG OFFENSE\"                             0.022425\n",
              "\"ROBBERY\"                                  0.009081\n",
              "\"ARSON\"                                    0.003277\n",
              "\"MURDER AND NON-NEGLIGENT MANSLAUGHTER\"    0.002527\n",
              "Name: \"UCR CRIME CATEGORY\", dtype: float64"
            ]
          },
          "metadata": {},
          "execution_count": 71
        }
      ]
    },
    {
      "cell_type": "markdown",
      "source": [
        "To make this easier to understand, we can normalize it in order to see proportions. Just under 50% of the crimes that happen in Single Family Homes are Burglaries."
      ],
      "metadata": {
        "id": "NInBIUf-xxJo"
      }
    },
    {
      "cell_type": "code",
      "source": [
        "sngle_hm['\"UCR CRIME CATEGORY\"'].value_counts(normalize = True)"
      ],
      "metadata": {
        "colab": {
          "base_uri": "https://localhost:8080/"
        },
        "id": "8oC51_-5x35-",
        "outputId": "6ccb3d4c-0a30-420e-dc46-97999d9d69f3"
      },
      "execution_count": 72,
      "outputs": [
        {
          "output_type": "execute_result",
          "data": {
            "text/plain": [
              "\"BURGLARY\"                                 0.497493\n",
              "\"LARCENY-THEFT\"                            0.269888\n",
              "\"MOTOR VEHICLE THEFT\"                      0.091002\n",
              "\"AGGRAVATED ASSAULT\"                       0.080264\n",
              "\"RAPE\"                                     0.024044\n",
              "\"DRUG OFFENSE\"                             0.022425\n",
              "\"ROBBERY\"                                  0.009081\n",
              "\"ARSON\"                                    0.003277\n",
              "\"MURDER AND NON-NEGLIGENT MANSLAUGHTER\"    0.002527\n",
              "Name: \"UCR CRIME CATEGORY\", dtype: float64"
            ]
          },
          "metadata": {},
          "execution_count": 72
        }
      ]
    },
    {
      "cell_type": "markdown",
      "source": [
        "We see a similar relationship if we look at Burglaries specifically. In this case, over 50% of Burglaries happen in Single Family Homes, significantly more than Apartments, which I would logically think would be about the same. If I had to venture a guess as to why, it would be because Single Family Homes have less traffic. If my own neighborhood is anything to compare it to, most houses don't even turn their front lights on when it gets dark."
      ],
      "metadata": {
        "id": "QuIgqSdJwu_P"
      }
    },
    {
      "cell_type": "code",
      "source": [
        "crm_cat = df.groupby('\"UCR CRIME CATEGORY\"')\n",
        "burg = crm_cat.get_group('\"BURGLARY\"')\n",
        "burg['\"PREMISE TYPE\"'].value_counts(normalize = True)\n"
      ],
      "metadata": {
        "colab": {
          "base_uri": "https://localhost:8080/"
        },
        "id": "krMgTkOUwCPD",
        "outputId": "bc1d338f-488d-4829-e6d5-a5a91638af35"
      },
      "execution_count": 73,
      "outputs": [
        {
          "output_type": "execute_result",
          "data": {
            "text/plain": [
              "\"SINGLE FAMILY HOUSE\"             0.534212\n",
              "\"APARTMENT\"                       0.165126\n",
              "\"OFFICE / COMMERCIAL BUILDING\"    0.043497\n",
              "\"RETAIL BUSINESS\"                 0.027896\n",
              "\"GARAGE\"                          0.022723\n",
              "                                    ...   \n",
              "\"RAIL STATION\"                    0.000085\n",
              "\"FIELD/WOODS\"                     0.000042\n",
              "\"GARAGE / CARPORT\"                0.000042\n",
              "\"AMUSEMENT PARK\"                  0.000042\n",
              "\"A                                0.000042\n",
              "Name: \"PREMISE TYPE\", Length: 65, dtype: float64"
            ]
          },
          "metadata": {},
          "execution_count": 73
        }
      ]
    },
    {
      "cell_type": "markdown",
      "source": [
        "Outside of that tidbit, this is the distribution of each of the crimes that are commited."
      ],
      "metadata": {
        "id": "DrGsQAOKy5V6"
      }
    },
    {
      "cell_type": "code",
      "source": [
        "crm = df['\"UCR CRIME CATEGORY\"'].value_counts()\n",
        "crm"
      ],
      "metadata": {
        "colab": {
          "base_uri": "https://localhost:8080/"
        },
        "id": "OWtGvKSiy64V",
        "outputId": "1152cd5f-9a5a-4de9-c278-979692553510"
      },
      "execution_count": 80,
      "outputs": [
        {
          "output_type": "execute_result",
          "data": {
            "text/plain": [
              "\"LARCENY-THEFT\"                            66216\n",
              "\"BURGLARY\"                                 23648\n",
              "\"MOTOR VEHICLE THEFT\"                      14391\n",
              "\"DRUG OFFENSE\"                              9572\n",
              "\"AGGRAVATED ASSAULT\"                        9306\n",
              "\"ROBBERY\"                                   5640\n",
              "\"RAPE\"                                      1981\n",
              "\"ARSON\"                                      634\n",
              "\"MURDER AND NON-NEGLIGENT MANSLAUGHTER\"      289\n",
              "Name: \"UCR CRIME CATEGORY\", dtype: int64"
            ]
          },
          "metadata": {},
          "execution_count": 80
        }
      ]
    },
    {
      "cell_type": "markdown",
      "source": [
        "The FBI define violent crimes as Murder and Non-Negligent Manslaughter, Rape, Robbery, and Aggravated Assault. If we look at Violent vs. Non-Violent crimes in Pheonex, we get the following comparison."
      ],
      "metadata": {
        "id": "VOoXNzV3zjB6"
      }
    },
    {
      "cell_type": "code",
      "source": [
        "crm_lst = pd.DataFrame([[crm[8]+crm[6]+crm[5]+crm[4]], [crm[0]+crm[1]+crm[2]+crm[3]+crm[7]]])\n",
        "crm_lst.plot.bar()\n",
        "plt.xlabel('Violent vs Non-Violent Crimes')"
      ],
      "metadata": {
        "colab": {
          "base_uri": "https://localhost:8080/",
          "height": 296
        },
        "id": "sopU2AhQzUVA",
        "outputId": "0d68d1fb-c3bd-4ae3-d7e7-2ad120b78a50"
      },
      "execution_count": 88,
      "outputs": [
        {
          "output_type": "execute_result",
          "data": {
            "text/plain": [
              "Text(0.5, 0, 'Violent vs Non-Violent Crimes')"
            ]
          },
          "metadata": {},
          "execution_count": 88
        },
        {
          "output_type": "display_data",
          "data": {
            "text/plain": [
              "<Figure size 432x288 with 1 Axes>"
            ],
            "image/png": "[encoded data removed]"
          },
          "metadata": {
            "needs_background": "light"
          }
        }
      ]
    },
    {
      "cell_type": "markdown",
      "source": [
        "When looking at all the crimes that happened across Pheonix during this time, it is comforting to see how small the proportion of violent crimes are to non-violent crimes."
      ],
      "metadata": {
        "id": "8QZEPOmE2EOZ"
      }
    }
  ]
}